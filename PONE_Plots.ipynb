{
 "cells": [
  {
   "cell_type": "code",
   "execution_count": 51,
   "id": "a8c8b67a-c163-4f36-ad07-06e5e6855bf9",
   "metadata": {},
   "outputs": [],
   "source": [
    "import numpy as np\n",
    "import uproot\n",
    "import matplotlib.pyplot as plt\n",
    "from matplotlib import cm \n",
    "from mpl_toolkits.mplot3d import axes3d, Axes3D \n",
    "from IPython.display import display\n",
    "import pandas as pd\n",
    "from bokeh.plotting import figure, show\n",
    "from bokeh.models import ColumnDataSource, HoverTool, CategoricalColorMapper, Range1d\n",
    "from bokeh.palettes import Category10_5, Category20_16\n",
    "from bokeh.io import export_svgs\n",
    "from scipy.stats import gaussian_kde\n",
    "from scipy.optimize import curve_fit\n",
    "import scipy    \n",
    "from scipy.interpolate import interp1d\n",
    "from scipy import interpolate\n",
    "from scipy.ndimage import gaussian_filter\n",
    "from pylatexenc.latex2text import LatexNodes2Text\n",
    "import svglib.svglib as svglib\n",
    "from reportlab.graphics import renderPDF\n",
    "import csv\n",
    "%matplotlib qt5"
   ]
  },
  {
   "cell_type": "markdown",
   "id": "424592f0-bf98-4e3a-9c9e-48969111924b",
   "metadata": {},
   "source": [
    "# Variables"
   ]
  },
  {
   "cell_type": "markdown",
   "id": "b6c6756e-670b-4251-b452-9f4457884184",
   "metadata": {},
   "source": [
    "## Parameters"
   ]
  },
  {
   "cell_type": "code",
   "execution_count": 2,
   "id": "00868f4b-997b-40d1-9cf4-b292de429b08",
   "metadata": {},
   "outputs": [],
   "source": [
    "photon_energy = [1.550, 1.569, 1.600, 1.610, 1.631, 1.653, 1.675, 1.698, 1.722, 1.746, 1.771, 1.797, 1.823, 1.851, 1.879, 1.907, 1.937, 1.968, 2.000, 2.033, 2.066, 2.101, 2.138, 2.175, 2.214, 2.254, 2.296, 2.339, 2.384, 2.431, 2.480, 2.530, 2.583, 2.638, 2.695, 2.755, 2.818, 2.883, 2.952, 3.024, 3.100, 3.179, 3.263, 3.351, 3.444, 3.542, 3.647, 3.757, 3.875, 3.999, 4.133, 4.275, 4.428, 4.592, 4.769, 4.959, 5.166, 5.391, 5.636, 5.904, 6.199]\n",
    "energy_array = np.array(photon_energy, dtype=float)\n",
    "\n",
    "absorption = [0.483, 0.463, 0.424, 0.398, 0.392, 0.405, 0.420, 0.556, 0.855, 1.192, 1.538, 2.000, 2.222, 2.326, 2.500, 2.865, 3.040, 3.135, 3.236, 3.460, 4.098, 6.369, 9.259, 12.516, 14.124, 15.674, 17.921, 19.724, 20.964, 28.011, 38.911, 51.020, 56.818, 64.103, 64.103, 68.966, 68.966, 69.444, 65.359, 61.728, 58.480, 52.356, 45.455, 33.333, 26.385, 21.598, 17.825, 14.749, 11.848, 9.524, 7.092, 4.651, 3.472, 2.681, 2.188, 1.789, 1.389, 1.079, 0.763, 0.503, 0.326]\n",
    "absorption_array = np.array(absorption)\n",
    "\n",
    "mie_scattering = [2500.000, 2500.000, 2500.000, 2000.000, 2000.000, 2000.000, 1666.667, 1666.667, 1666.667, 1428.571, 1428.571, 1428.571, 1428.571, 1250.000, 1250.000, 1000.000, 1000.000, 909.091, 833.333, 769.231, 714.286, 666.667, 625.000, 588.235, 555.556, 526.316, 476.190, 454.545, 416.667, 384.616, 344.828, 322.581, 294.118, 270.270, 243.902, 222.222, 204.082, 181.818, 163.934, 147.059, 131.579, 119.048, 106.383, 94.340, 83.333, 74.627, 65.359, 57.143, 50.000, 43.668, 38.168, 32.787, 28.329, 24.096, 20.619, 17.391, 14.599, 12.195, 10.050, 8.403, 6.623]\n",
    "mie_scat_array = np.array(mie_scattering)\n",
    "\n",
    "glass_index = [1.5074, 1.5075, 1.5075, 1.5076, 1.5083, 1.5091, 1.5097, 1.5099, 1.5099, 1.5105, 1.5101, 1.5105, 1.5104, 1.5108, 1.5110, 1.5112, 1.5116, 1.5116, 1.5114, 1.5118, 1.5135, 1.5140, 1.5141, 1.5145, 1.5152, 1.5153, 1.5163, 1.5174, 1.5176, 1.5182, 1.5187, 1.5193, 1.5201, 1.5206, 1.5217, 1.5222, 1.5231, 1.5246, 1.5257, 1.5261, 1.5278, 1.5292, 1.5314, 1.5336, 1.5365, 1.5394, 1.5417, 1.5442, 1.5468, 1.5491, 1.5532, 1.5566, 1.5626, 1.5670, 1.5718, 1.5790, 1.5870, 1.5957, 1.6043, 1.6232, 1.6371]\n",
    "glass_index_array = np.array(glass_index)\n",
    "\n",
    "glass_abs = [316.9572108, 316.9572108, 316.9572108, 316.9572108, 316.9572108, 316.9572108, 316.9572108, 316.9572108, 304.5066991, 274.2731761, 240.0384061, 206.6542674, 181.8181818, 156.3774502, 139.3444862, 129.1035274, 121.9334902, 119.7135326, 122.1887636, 127.2367858, 133.4467992, 141.0302622, 150.3753298, 161.8315483, 177.9342304, 161.8315483, 151.6952017, 143.7850612, 135.0713139, 125.22856, 113.0143301, 104.9198502, 95.44620406, 82.7502968, 67.23444119, 58.77205598, 51.38245418, 41.81366949, 29.22220534, 21.66861048, 12.8737616, 7.079034837, 3.023689376, 1.413360718, 0.5345729838, 0.1552022043, 0.04916730433, 0.0199758852, 0.01166419596, 0.01034027868, 0.009265061783, 0.008861001454, 0.007978840712, 0.007699001607, 0.007434528078, 0.007098095188, 0.007204924393, 0.008051878933, 0.009117465747, 0.01042013539]\n",
    "glass_abs_array = np.array(glass_abs)"
   ]
  },
  {
   "cell_type": "code",
   "execution_count": 3,
   "id": "a6672ccc-78a4-46f5-9f75-2d14e2fe00f7",
   "metadata": {},
   "outputs": [],
   "source": [
    "index_energy = [1.926, 2.104, 2.141, 2.149, 2.270, 2.438, 2.583, 2.650, 2.845, 3.064]\n",
    "index_energy_array = np.array(index_energy)\n",
    "\n",
    "index = [1.35072, 1.34811, 1.34596, 1.34525, 1.34378, 1.34215, 1.34104, 1.34097, 1.34063, 1.33905]\n",
    "index_array = np.array(index)"
   ]
  },
  {
   "cell_type": "code",
   "execution_count": 4,
   "id": "b71991b6-5424-4456-bff5-cb6aaa2f8650",
   "metadata": {},
   "outputs": [
    {
     "name": "stdout",
     "output_type": "stream",
     "text": [
      "[709.21985816 617.28395062 518.13471503 429.18454936 347.22222222\n",
      " 278.55153203 220.26431718 172.11703959 132.45033113 100.2004008\n",
      "  74.34944238]\n",
      "<class 'numpy.ndarray'> <class 'numpy.float64'>\n",
      "<class 'numpy.ndarray'> <class 'numpy.float64'>\n",
      "<class 'list'> <class 'float'>\n"
     ]
    }
   ],
   "source": [
    "ray_energy = [2.066, 2.156, 2.254, 2.362, 2.480, 2.610, 2.755, 2.917, 3.100, 3.306, 3.542]\n",
    "ray_array = np.array(ray_energy, dtype=float)\n",
    "\n",
    "ray_scattering = [(1/(14.1*10**(-4))), (1/(16.2*10**(-4))), (1/(19.3*10**(-4))), (1/(23.3*10**(-4))), (1/(28.8*10**(-4))), (1/(35.9*10**(-4))), (1/(45.4*10**(-4))), (1/(58.1*10**(-4))), (1/(75.5*10**(-4))), (1/(99.8*10**(-4))), (1/(134.5*10**(-4)))]\n",
    "ray_scat_array = np.array(ray_scattering, dtype=float)\n",
    "print(ray_scat_array)\n",
    "\n",
    "print(type(ray_array), type(ray_array[0]))\n",
    "print(type(ray_scat_array), type(ray_scat_array[0]))\n",
    "print(type(photon_energy), type(photon_energy[0]))"
   ]
  },
  {
   "cell_type": "code",
   "execution_count": 5,
   "id": "78ed4585-d3ed-4c96-88b4-60d2e1238ce8",
   "metadata": {},
   "outputs": [
    {
     "name": "stdout",
     "output_type": "stream",
     "text": [
      "[1.64258552 1.6088308  1.55944857 1.54495862 1.51670815 1.49014426\n",
      " 1.46651484 1.44476393 1.42507754 1.40824721 1.39351408 1.38095547\n",
      " 1.37093717 1.36266646 1.3566642  1.352579   1.3499301  1.34862199\n",
      " 1.348295   1.34849721 1.3486777  1.34820405 1.34621263 1.34365331\n",
      " 1.34305765 1.34355651 1.3439364  1.34370239 1.34305238 1.34225758\n",
      " 1.34162605 1.34123825 1.34104    1.34097687 1.34093704 1.34086058\n",
      " 1.34071744 1.34047485 1.3400799  1.33948018 1.33859649 1.33735626\n",
      " 1.33562047 1.33327433 1.33012976 1.3259849  1.32048673 1.31342383\n",
      " 1.30420789 1.29250953 1.27731959 1.25805908 1.23332341 1.20180281\n",
      " 1.16144802 1.11016025 1.04406424 0.95907282 0.84958298 0.70780452\n",
      " 0.52279934]\n"
     ]
    }
   ],
   "source": [
    "interp_func_1 = interp1d(index_energy, index, kind='cubic', fill_value=\"extrapolate\")\n",
    "index_interp = interp_func_1(photon_energy)\n",
    "print(index_interp)"
   ]
  },
  {
   "cell_type": "code",
   "execution_count": 6,
   "id": "b284bf71-cd8b-4e41-a07e-2b3ab8b18cfa",
   "metadata": {},
   "outputs": [
    {
     "name": "stdout",
     "output_type": "stream",
     "text": [
      "[1.67267108e+03 1.62058204e+03 1.53905415e+03 1.51363991e+03\n",
      " 1.46162774e+03 1.40905470e+03 1.35837265e+03 1.30733494e+03\n",
      " 1.25612158e+03 1.20691445e+03 1.15770567e+03 1.10865573e+03\n",
      " 1.06168394e+03 1.01332212e+03 9.67163284e+02 9.23107072e+02\n",
      " 8.78128533e+02 8.33951831e+02 7.90679923e+02 7.48406108e+02\n",
      " 7.08392469e+02 6.68288952e+02 6.28359755e+02 5.90816263e+02\n",
      " 5.53669061e+02 5.17994247e+02 4.83006919e+02 4.49633472e+02\n",
      " 4.17174400e+02 3.85771732e+02 3.55546891e+02 3.27144962e+02\n",
      " 2.99511974e+02 2.73301412e+02 2.48555453e+02 2.24923751e+02\n",
      " 2.02524673e+02 1.81749949e+02 1.62023542e+02 1.43718458e+02\n",
      " 1.26635201e+02 1.11026574e+02 9.65347704e+01 8.33773459e+01\n",
      " 7.14161938e+01 6.06638080e+01 5.09331700e+01 4.24088094e+01\n",
      " 3.48438703e+01 2.83437886e+01 2.26755632e+01 1.79008313e+01\n",
      " 1.38750276e+01 1.05594196e+01 7.86403635e+00 5.73126180e+00\n",
      " 4.06033365e+00 2.79162323e+00 1.85647551e+00 1.18820011e+00\n",
      " 7.27051814e-01]\n"
     ]
    }
   ],
   "source": [
    "# Define exponential model\n",
    "def exp_func(x, a, b):\n",
    "    return a * np.exp(b * x)\n",
    "\n",
    "# Fit exponential model to your data\n",
    "popt, _ = curve_fit(exp_func, ray_array, ray_scat_array)\n",
    "\n",
    "# Apply the fitted model to photon_energy\n",
    "ray_interp = exp_func(energy_array, *popt)\n",
    "print(ray_interp)"
   ]
  },
  {
   "cell_type": "code",
   "execution_count": 7,
   "id": "a4b4180e-24ec-4295-bf2b-213281a95634",
   "metadata": {},
   "outputs": [],
   "source": [
    "phi = [0.1, 0.126, 0.158, 0.2, 0.251, 0.316, 0.398, 0.501, 0.631, 0.794, 1, 1.259, 1.585, 1.995, 2.512, 3.162, 3.981, 5.012, 6.310, 7.943, 10, 15, 20, 25, 30, 35, 40, 45, 50, 55, 60, 65, 70, 75, 80, 85, 90, 95, 100, 105, 110, 115, 120, 125, 130, 135, 140, 145, 150, 155, 160, 165, 170, 175, 180]\n",
    "vol_scat = [2.936 * 10**(-4), 2.936 * 10**(-4), 2.936 * 10**(-4), 2.936 * 10**(-4), 2.936 * 10**(-4), 2.936 * 10**(-4), 2.936 * 10**(-4), 2.936 * 10**(-4), 2.936 * 10**(-4), 2.936 * 10**(-4), 2.936 * 10**(-4), 2.935 * 10**(-4), 2.935 * 10**(-4), 2.934 * 10**(-4), 2.933 * 10**(-4), 2.932 * 10**(-4), 2.930 * 10**(-4), 2.926 * 10**(-4), 2.920 * 10**(-4), 2.911 * 10**(-4), 2.896 * 10**(-4), 2.847 * 10**(-4), 2.780 * 10**(-4), 2.697 * 10**(-4), 2.602 * 10**(-4), 2.497 * 10**(-4), 2.384 * 10**(-4), 2.268 * 10**(-4), 2.152 * 10**(-4), 2.040 * 10**(-4), 1.934 * 10**(-4), 1.839 * 10**(-4), 1.756 * 10**(-4), 1.690 * 10**(-4), 1.640 * 10**(-4), 1.610 * 10**(-4), 1.600 * 10**(-4), 1.610 * 10**(-4), 1.640 * 10**(-4), 1.690 * 10**(-4), 1.756 * 10**(-4), 1.839 * 10**(-4), 1.934 * 10**(-4), 2.040 * 10**(-4), 2.152 * 10**(-4), 2.268 * 10**(-4), 2.384 * 10**(-4), 2.497 * 10**(-4), 2.602 * 10**(-4), 2.697 * 10**(-4), 2.780 * 10**(-4), 2.847 * 10**(-4), 2.896 * 10**(-4), 2.929 * 10**(-4), 2.936 * 10**(-4)]"
   ]
  },
  {
   "cell_type": "markdown",
   "id": "eeff633f-7835-42a5-aeed-8db8a85824d0",
   "metadata": {},
   "source": [
    "## Oscilloscope"
   ]
  },
  {
   "cell_type": "code",
   "execution_count": 49,
   "id": "d4c5e867-93bb-4107-9ecc-e1f3a310cb56",
   "metadata": {},
   "outputs": [],
   "source": [
    "time = []\n",
    "voltage = []\n",
    "\n",
    "with open('/Users/lgm/Desktop/Geant4/Oscilloscope_Data.csv') as oscilloscope_data:\n",
    "    plots = csv.reader(oscilloscope_data, delimiter = ',')\n",
    "\n",
    "    for row in plots:\n",
    "        time.append(float(row[0]))\n",
    "        voltage.append(float(row[1]))"
   ]
  },
  {
   "cell_type": "code",
   "execution_count": 63,
   "id": "14c01888-4884-499f-b0b8-7f46499541eb",
   "metadata": {},
   "outputs": [],
   "source": [
    "k = 0.65\n",
    "\n",
    "smooth_voltage = gaussian_filter(voltage,k)"
   ]
  },
  {
   "cell_type": "markdown",
   "id": "b58ab753-49d0-4c55-9ad4-e20e53f185af",
   "metadata": {},
   "source": [
    "## ROOT"
   ]
  },
  {
   "cell_type": "markdown",
   "id": "1de607f4-f789-49f6-b41d-6524dbb2f1d6",
   "metadata": {},
   "source": [
    "### Accessing Trees and Leaves"
   ]
  },
  {
   "cell_type": "code",
   "execution_count": 8,
   "id": "2e6a07c8-e413-4adb-b014-7541f0738d53",
   "metadata": {},
   "outputs": [],
   "source": [
    "def readinG4rootfile(filename):\n",
    "    try:\n",
    "        # Open the ROOT datafile\n",
    "        datafile = uproot.open(filename)\n",
    " \n",
    "        # Access trees\n",
    "        primarytree = datafile[\"primarytree\"]\n",
    "        steptree = datafile[\"steptree\"]\n",
    " \n",
    "        # Read specific branches from all_events\n",
    "        primary_df = primarytree.arrays([\n",
    "            \"PrimaryX0_mm\",\n",
    "            \"PrimaryY0_mm\",\n",
    "            \"PrimaryZ0_mm\",\n",
    "            \"primaryenergy_eV\",\n",
    "            \"primaryinfo_PDGID\",\n",
    "            \"primarypolarization_X\",\n",
    "            \"primarypolarization_Y\",\n",
    "            \"primarypolarization_Z\"],\n",
    "            library=\"pd\")\n",
    "   \n",
    "        # Read argon_steps branches\n",
    "        step_df = steptree.arrays([\n",
    "            \"Stepenergy_eV\",\n",
    "            \"Stepinfo_PDGID\",\n",
    "            \"Stepinfo_ParentID\",\n",
    "            \"Stepinfo_eventnumber\",\n",
    "            \"Stepinfo_endoftrackflag\",\n",
    "            \"Stepposition_X_mm\",\n",
    "            \"Stepposition_Y_mm\",\n",
    "            \"Stepposition_Z_mm\",\n",
    "            \"Stepinfo_polarization_X\",\n",
    "            \"Stepinfo_polarization_Y\",\n",
    "            \"Stepinfo_polarization_Z\"],\n",
    "            library=\"pd\")\n",
    " \n",
    "        return primary_df,step_df\n",
    " \n",
    "    except FileNotFoundError:\n",
    "        print(f\"Error: The file {file_path} does not exist.\")\n",
    "        return None"
   ]
  },
  {
   "cell_type": "code",
   "execution_count": 9,
   "id": "0418f967-64c0-4b3c-8bdd-45c1b33aa064",
   "metadata": {},
   "outputs": [
    {
     "name": "stdout",
     "output_type": "stream",
     "text": [
      "         Stepenergy_eV  Stepinfo_PDGID  Stepinfo_ParentID  \\\n",
      "0                  0.0           -22.0                  0   \n",
      "1                  0.0           -22.0                  0   \n",
      "2                  4.0           -22.0                  0   \n",
      "3                  4.0           -22.0                  0   \n",
      "4                  4.0           -22.0                  0   \n",
      "...                ...             ...                ...   \n",
      "2806516            4.0           -22.0                  0   \n",
      "2806517            0.0           -22.0                  0   \n",
      "2806518            0.0           -22.0                  0   \n",
      "2806519            4.0           -22.0                  0   \n",
      "2806520            4.0           -22.0                  0   \n",
      "\n",
      "         Stepinfo_eventnumber  Stepinfo_endoftrackflag  Stepposition_X_mm  \\\n",
      "0                           0                    False       -2667.963894   \n",
      "1                           0                    False       -2667.963894   \n",
      "2                           0                    False       -2530.980758   \n",
      "3                           0                     True        -189.269420   \n",
      "4                           1                    False       -5004.002138   \n",
      "...                       ...                      ...                ...   \n",
      "2806516                999998                     True        7463.430135   \n",
      "2806517                999999                    False       -1092.552264   \n",
      "2806518                999999                    False       -1092.552264   \n",
      "2806519                999999                    False        -677.687815   \n",
      "2806520                999999                     True       -4271.516878   \n",
      "\n",
      "         Stepposition_Y_mm  Stepposition_Z_mm  Stepinfo_polarization_X  \\\n",
      "0             -2435.366034      -15000.000000                 0.969423   \n",
      "1             -2435.366034       -9985.220061                -0.816085   \n",
      "2             -2275.556327       -9465.234999                -0.816085   \n",
      "3               641.147024       -7660.766436                -0.816085   \n",
      "4             -1102.490999      -15000.000000                -0.999676   \n",
      "...                    ...                ...                      ...   \n",
      "2806516       -5838.358441       -2485.818448                -0.999676   \n",
      "2806517        6465.851169      -15000.000000                -0.957595   \n",
      "2806518        6465.851169      -10256.431790                 0.623201   \n",
      "2806519        5253.480941       -9596.787570                 0.623201   \n",
      "2806520        8206.352599       -8998.133581                 0.623201   \n",
      "\n",
      "         Stepinfo_polarization_Y  Stepinfo_polarization_Z  \n",
      "0                      -0.095661                -0.225981  \n",
      "1                       0.393115                 0.423634  \n",
      "2                       0.393115                 0.423634  \n",
      "3                       0.393115                 0.423634  \n",
      "4                       0.025464                 0.000000  \n",
      "...                          ...                      ...  \n",
      "2806516                 0.025464                 0.000000  \n",
      "2806517                -0.246717                 0.148806  \n",
      "2806518                 0.776813                -0.090458  \n",
      "2806519                 0.776813                -0.090458  \n",
      "2806520                 0.776813                -0.090458  \n",
      "\n",
      "[2806521 rows x 11 columns]\n"
     ]
    }
   ],
   "source": [
    "pony_file = '/Users/lgm/g4test/Outputs/PONY_Output/PONYsimdebugging.root'\n",
    "pony_file_content = readinG4rootfile(pony_file)\n",
    "pony_data = pony_file_content[1]\n",
    "print(pony_data)\n",
    "event = pony_data[\"Stepinfo_endoftrackflag\"]"
   ]
  },
  {
   "cell_type": "markdown",
   "id": "2ba58eb3-7991-4ff8-b13c-18cdea70e2b2",
   "metadata": {},
   "source": [
    "### Position"
   ]
  },
  {
   "cell_type": "code",
   "execution_count": 10,
   "id": "14c1b138-fc2d-4323-a215-0150b00767f1",
   "metadata": {},
   "outputs": [
    {
     "name": "stdout",
     "output_type": "stream",
     "text": [
      "-48000.0\n",
      "48000.0\n",
      "-48000.0\n",
      "48000.0\n",
      "-48000.0\n",
      "48000.0\n",
      "960.0\n"
     ]
    }
   ],
   "source": [
    "pony_data[\"distances\"] = np.sqrt(pony_data[\"Stepposition_X_mm\"]**2 + pony_data[\"Stepposition_Y_mm\"]**2 + pony_data[\"Stepposition_Z_mm\"]**2)\n",
    "pony_data = pony_data[pony_data[\"distances\"] > 0]\n",
    "\n",
    "positions_x_mm = pony_data[\"Stepposition_X_mm\"]\n",
    "positions_y_mm = pony_data[\"Stepposition_Y_mm\"]\n",
    "positions_z_mm = pony_data[\"Stepposition_Z_mm\"]\n",
    "\n",
    "positions_x_min = positions_x_mm.min()\n",
    "positions_x_max = positions_x_mm.max()\n",
    "positions_y_min = positions_y_mm.min()\n",
    "positions_y_max = positions_y_mm.max()\n",
    "positions_z_min = positions_z_mm.min()\n",
    "positions_z_max = positions_z_mm.max()\n",
    "\n",
    "print(positions_x_min)\n",
    "print(positions_x_max)\n",
    "print(positions_y_min)\n",
    "print(positions_y_max)\n",
    "print(positions_z_min)\n",
    "print(positions_z_max)\n",
    "\n",
    "multi_positions_bins = (positions_y_max - positions_z_min)/100\n",
    "print(multi_positions_bins)"
   ]
  },
  {
   "cell_type": "code",
   "execution_count": 11,
   "id": "fa2e2396-b87d-4fd5-891c-79e36b306b23",
   "metadata": {},
   "outputs": [
    {
     "name": "stdout",
     "output_type": "stream",
     "text": [
      "2806521\n",
      "1000000\n",
      "0          False\n",
      "1          False\n",
      "2          False\n",
      "3           True\n",
      "4          False\n",
      "           ...  \n",
      "2806516     True\n",
      "2806517    False\n",
      "2806518    False\n",
      "2806519    False\n",
      "2806520     True\n",
      "Name: Stepinfo_endoftrackflag, Length: 2806521, dtype: bool\n",
      "0          False\n",
      "1          False\n",
      "2          False\n",
      "3           True\n",
      "4          False\n",
      "           ...  \n",
      "2806516     True\n",
      "2806517    False\n",
      "2806518    False\n",
      "2806519    False\n",
      "2806520     True\n",
      "Name: Stepinfo_endoftrackflag, Length: 2806521, dtype: bool\n"
     ]
    }
   ],
   "source": [
    "mask = (event >= 1)\n",
    "x_pos_filtered = positions_x_mm[mask]\n",
    "y_pos_filtered = positions_y_mm[mask]\n",
    "z_pos_filtered = positions_z_mm[mask]\n",
    "\n",
    "print(len(positions_x_mm))\n",
    "print(len(x_pos_filtered))\n",
    "print(mask)\n",
    "print(event)"
   ]
  },
  {
   "cell_type": "code",
   "execution_count": 12,
   "id": "ac05211e-d84c-4444-a68b-aa531bd4e453",
   "metadata": {},
   "outputs": [
    {
     "name": "stdout",
     "output_type": "stream",
     "text": [
      "-48000.0\n",
      "48000.0\n",
      "-48000.0\n",
      "48000.0\n",
      "-48000.0\n",
      "48000.0\n",
      "480.0\n"
     ]
    }
   ],
   "source": [
    "filt_x_min = x_pos_filtered.min()\n",
    "filt_x_max = x_pos_filtered.max()\n",
    "filt_y_min = y_pos_filtered.min()\n",
    "filt_y_max = y_pos_filtered.max()\n",
    "filt_z_min = z_pos_filtered.min()\n",
    "filt_z_max = z_pos_filtered.max()\n",
    "\n",
    "print(filt_x_min)\n",
    "print(filt_x_max)\n",
    "print(filt_y_min)\n",
    "print(filt_y_max)\n",
    "print(filt_z_min)\n",
    "print(filt_z_max)\n",
    "\n",
    "filt_positions_bins = (filt_z_max - filt_z_min)/200\n",
    "print(filt_positions_bins)"
   ]
  },
  {
   "cell_type": "code",
   "execution_count": 13,
   "id": "e5f0f5df-798a-4acd-aed6-7d283b01816a",
   "metadata": {},
   "outputs": [
    {
     "name": "stdout",
     "output_type": "stream",
     "text": [
      "827.3138705117536\n",
      "160.49686239781204\n",
      "82891.88391357317\n"
     ]
    }
   ],
   "source": [
    "positions_mm = pony_data[\"distances\"]\n",
    "positions_min = positions_mm.min()\n",
    "positions_max = positions_mm.max()\n",
    "positions_bins = (positions_max - positions_min)/100\n",
    "\n",
    "print(positions_bins)\n",
    "print(positions_min)\n",
    "print(positions_max)"
   ]
  },
  {
   "cell_type": "markdown",
   "id": "c51a9cec-7194-41bc-ba31-bb7cf7e19bef",
   "metadata": {},
   "source": [
    "### Polarization"
   ]
  },
  {
   "cell_type": "code",
   "execution_count": 14,
   "id": "b56cb2eb-e935-4eef-b39a-1e72732aec85",
   "metadata": {},
   "outputs": [
    {
     "name": "stdout",
     "output_type": "stream",
     "text": [
      "39.99997961980286\n"
     ]
    }
   ],
   "source": [
    "polarization_x = pony_data[\"Stepinfo_polarization_X\"]\n",
    "polarization_y = pony_data[\"Stepinfo_polarization_Y\"]\n",
    "polarization_z = pony_data[\"Stepinfo_polarization_Z\"]\n",
    "\n",
    "polarization_x_min = polarization_x.min()\n",
    "polarization_x_max = polarization_x.max()\n",
    "polarization_y_min = polarization_y.min()\n",
    "polarization_y_max = polarization_y.max()\n",
    "polarization_z_min = polarization_z.min()\n",
    "polarization_z_max = polarization_z.max()\n",
    "\n",
    "polarization_bins = (polarization_x_max - polarization_y_min)/0.05\n",
    "print(polarization_bins)"
   ]
  },
  {
   "cell_type": "code",
   "execution_count": 15,
   "id": "5825f9d3-8263-4c17-9d01-1ca349e6d5e0",
   "metadata": {},
   "outputs": [],
   "source": [
    "abs_polar_x = abs(polarization_x)\n",
    "abs_polar_y = abs(polarization_y)\n",
    "abs_polar_z = abs(polarization_z)"
   ]
  },
  {
   "cell_type": "code",
   "execution_count": 16,
   "id": "4237682a-0bd8-4cce-8352-0f31c4ac5429",
   "metadata": {},
   "outputs": [],
   "source": [
    "x_pol_filtered = abs_polar_x[mask]\n",
    "y_pol_filtered = abs_polar_y[mask]\n",
    "z_pol_filtered = abs_polar_z[mask]"
   ]
  },
  {
   "cell_type": "code",
   "execution_count": 17,
   "id": "b639dabd-3f36-4293-a64e-9e59ea1dcdd4",
   "metadata": {},
   "outputs": [
    {
     "name": "stdout",
     "output_type": "stream",
     "text": [
      "0.9999999999999997\n",
      "1.0000000000000002\n"
     ]
    }
   ],
   "source": [
    "pony_data[\"polarization\"] = np.sqrt(x_pol_filtered**2 + y_pol_filtered**2 + z_pol_filtered**2)\n",
    "pony_data = pony_data[pony_data[\"polarization\"] > 0]\n",
    "\n",
    "polarization = pony_data[\"polarization\"]\n",
    "polarization_min = polarization.min()\n",
    "polarization_max = polarization.max()\n",
    "print(polarization_min)\n",
    "print(polarization_max)"
   ]
  },
  {
   "cell_type": "markdown",
   "id": "82242790-c6c9-44f7-8329-22551eb304eb",
   "metadata": {},
   "source": [
    "# Plotting"
   ]
  },
  {
   "cell_type": "markdown",
   "id": "e3d7098f-e84a-4a41-a8e6-4b1e47d4f750",
   "metadata": {},
   "source": [
    "## Parameters"
   ]
  },
  {
   "cell_type": "code",
   "execution_count": 18,
   "id": "989851f8-fece-49b6-b010-abecc67afbd1",
   "metadata": {},
   "outputs": [
    {
     "name": "stderr",
     "output_type": "stream",
     "text": [
      "BokehUserWarning: ColumnDataSource's columns must be of the same length. Current lengths: ('x', 61), ('y', 60)\n"
     ]
    }
   ],
   "source": [
    "TOOLTIPS = [\n",
    "    (\"Photon Energy\", \"$x\"),\n",
    "    (\"Absorption Length\", \"$y\"),\n",
    "]\n",
    "\n",
    "p = figure(width=1000, height=500, title=\"Absorption Length\", x_axis_label='Photon Energy (eV)', y_axis_label='Absorption Length (m)', tooltips = TOOLTIPS)\n",
    "\n",
    "p.scatter(energy_array, absorption_array, size=10, color=\"navy\", alpha=0.5, legend_label = 'Pure Sea Water')\n",
    "p.scatter(energy_array, glass_abs_array, size=10, color=\"red\", alpha=0.5, legend_label = 'Borosilicate')\n",
    "\n",
    "show(p)"
   ]
  },
  {
   "cell_type": "code",
   "execution_count": 19,
   "id": "eec5433d-6860-48bb-91f7-378709bd429c",
   "metadata": {},
   "outputs": [],
   "source": [
    "TOOLTIPS = [\n",
    "    (\"Photon Energy\", \"$x\"),\n",
    "    (\"Mie Scattering Length\", \"$y\"),\n",
    "]\n",
    "\n",
    "p = figure(width=1000, height=500, title=\"Mie Scattering Length in Pure Sea Water\", x_axis_label='Photon Energy (eV)', y_axis_label='Scattering Length (m)', tooltips = TOOLTIPS)\n",
    "\n",
    "p.scatter(energy_array, mie_scat_array, size=10, color=\"navy\", alpha=0.5)\n",
    "\n",
    "show(p)"
   ]
  },
  {
   "cell_type": "code",
   "execution_count": 20,
   "id": "78b62b7d-1eff-47e1-a7e3-11cf4f990c71",
   "metadata": {},
   "outputs": [],
   "source": [
    "TOOLTIPS = [\n",
    "    (\"Photon Energy\", \"$x\"),\n",
    "    (\"Rayleigh Scattering Length\", \"$y\"),\n",
    "]\n",
    "\n",
    "p = figure(width=1000, height=500, title=\"Rayleigh Scattering Length in Pure Sea Water\", x_axis_label='Photon Energy (eV)', y_axis_label='Scattering Length (m)', tooltips = TOOLTIPS)\n",
    "\n",
    "p.scatter(energy_array, ray_interp, size=10, color=\"navy\", alpha=0.5)\n",
    "#p.scatter(ray_energy, ray_scattering, size=10, color=\"yellow\", alpha=0.5)\n",
    "\n",
    "show(p)"
   ]
  },
  {
   "cell_type": "code",
   "execution_count": 21,
   "id": "09ff0c2b-35a9-454c-8b69-5ca11a167d77",
   "metadata": {},
   "outputs": [],
   "source": [
    "TOOLTIPS = [\n",
    "    (\"Photon Energy\", \"$x\"),\n",
    "    (\"Refractive Index\", \"$y\"),\n",
    "]\n",
    "\n",
    "p = figure(width=1000, height=500, title=\"Index of Refraction in Sea Water\", x_axis_label='Photon Energy (eV)', y_axis_label='Refractive Index', tooltips = TOOLTIPS)\n",
    "\n",
    "p.scatter(energy_array, index_interp, size=10, color=\"navy\", alpha=0.5, legend_label = 'Pure Sea Water')\n",
    "p.scatter(energy_array, glass_index_array, size=10, color=\"red\", alpha=0.5, legend_label = 'Borosilicate')\n",
    "\n",
    "show(p)"
   ]
  },
  {
   "cell_type": "markdown",
   "id": "ccf6dfd3-f26b-4b55-bfdb-7e77d94d6105",
   "metadata": {},
   "source": [
    "## Oscilloscope Data"
   ]
  },
  {
   "cell_type": "code",
   "execution_count": 67,
   "id": "dc790abc-2ea5-4bff-888e-3652d327a961",
   "metadata": {},
   "outputs": [],
   "source": [
    "TOOLTIPS = [\n",
    "    (\"Time\", \"$x\"),\n",
    "    (\"Voltage\", \"$y\"),\n",
    "]\n",
    "\n",
    "p = figure(width=1000, height=500, title=\"Oscilloscope\", x_axis_label='Time (um)', y_axis_label='Voltage (V)', tooltips = TOOLTIPS)\n",
    "\n",
    "p.line(time, smooth_voltage, color=\"navy\", line_width = 1.5)\n",
    "\n",
    "show(p)"
   ]
  },
  {
   "cell_type": "markdown",
   "id": "0188261f-7ace-4157-be9d-fe6115e54cd4",
   "metadata": {},
   "source": [
    "## ROOT"
   ]
  },
  {
   "cell_type": "markdown",
   "id": "b101bc18-a559-4cf4-8cd1-6e400232117a",
   "metadata": {},
   "source": [
    "### Positions"
   ]
  },
  {
   "cell_type": "code",
   "execution_count": 22,
   "id": "48e3bc1d-99ac-4861-8716-9adfe03301c6",
   "metadata": {},
   "outputs": [],
   "source": [
    "TOOLTIPS = [\n",
    "    (\"Position\", \"$x\"),\n",
    "    (\"Events\", \"$y\"),\n",
    "]\n",
    "\n",
    "p = figure(width=670, height=400, title=\"Distribution of Step Distances from Origin\", y_axis_type=\"log\", x_axis_label='Distance from Origin (mm)', y_axis_label='Number of Events / (100 mm)', tooltips = TOOLTIPS)\n",
    "\n",
    "bins = np.linspace(positions_min, positions_max, 131)\n",
    "hist, edges = np.histogram(positions_mm, density=False, bins=bins)\n",
    "p.quad(top=hist, bottom=1, left=edges[:-1], right=edges[1:],\n",
    "         fill_color=\"gray\", line_color=\"gray\", legend_label=\"Position\",)\n",
    "show(p)"
   ]
  },
  {
   "cell_type": "code",
   "execution_count": 28,
   "id": "27235551-6080-4c2f-9cc1-d02366ec2939",
   "metadata": {},
   "outputs": [],
   "source": [
    "TOOLTIPS = [\n",
    "    (\"Position\", \"$x\"),\n",
    "    (\"Events\", \"$y\"),\n",
    "]\n",
    "\n",
    "p = figure(width=670, height=400, title=\"Distribution of Step Distances from Origin\", y_axis_type=\"log\", x_axis_label='Distance from Origin (mm)', y_axis_label='Number of Events / (200 mm)', tooltips = TOOLTIPS)\n",
    "\n",
    "bins = np.linspace(filt_z_min, filt_z_max, 300)\n",
    "hist1, edges1 = np.histogram(x_pos_filtered, density=False, bins=bins)\n",
    "#p.quad(top=hist1, bottom=1, left=edges1[:-1], right=edges1[1:],\n",
    "         #fill_color=\"red\", line_color=\"red\", legend_label=\"X Positions\", line_alpha = 0.20, fill_alpha = 0.15)\n",
    "hist2, edges2 = np.histogram(y_pos_filtered, density=False, bins=bins)\n",
    "p.quad(top=hist2, bottom=1, left=edges2[:-1], right=edges2[1:],\n",
    "         fill_color=\"green\", line_color=\"green\", legend_label=\"Y Positions\", line_alpha = 0.20, fill_alpha = 0.15)\n",
    "hist3, edges3 = np.histogram(z_pos_filtered, density=False, bins=bins)\n",
    "#p.quad(top=hist3, bottom=1, left=edges3[:-1], right=edges3[1:],\n",
    "         #fill_color=\"blue\", line_color=\"blue\", legend_label=\"Z Positions\", line_alpha = 0.20, fill_alpha = 0.15)\n",
    "\n",
    "#p.output_backend = \"svg\"\n",
    "#export_svgs(p, filename=\"flux_histogram.svg\")\n",
    "show(p)"
   ]
  },
  {
   "cell_type": "markdown",
   "id": "733ee344-922f-4596-9b32-c6dff4c69b06",
   "metadata": {},
   "source": [
    "#### Three Dimensions"
   ]
  },
  {
   "cell_type": "code",
   "execution_count": 24,
   "id": "93932ca6-a0d7-40ac-b482-565ab5f57183",
   "metadata": {},
   "outputs": [
    {
     "name": "stderr",
     "output_type": "stream",
     "text": [
      "/var/folders/dy/04yh7cvx6rn6_64k0jg71wmc001d85/T/ipykernel_98259/2564459878.py:11: UserWarning: No artists with labels found to put in legend.  Note that artists whose label start with an underscore are ignored when legend() is called with no argument.\n",
      "  ax.legend()\n"
     ]
    }
   ],
   "source": [
    "fig = plt.figure(figsize=(20, 15))\n",
    "ax = fig.add_subplot(111, projection='3d')\n",
    "\n",
    "ax.scatter(z_pos_filtered, x_pos_filtered, y_pos_filtered, color = 'navy', s = 0.25)\n",
    "\n",
    "ax.set_xlabel('Z Positions (m)')\n",
    "ax.set_ylabel('X Positions (m)')\n",
    "ax.set_zlabel('Y Positions (m)')\n",
    "ax.set_title('3D Positions Along the Cylinder of Water')\n",
    "\n",
    "ax.legend()\n",
    "plt.show()"
   ]
  },
  {
   "cell_type": "markdown",
   "id": "3e89b5b6-5c96-4ec8-a2b8-0f9980df201c",
   "metadata": {},
   "source": [
    "### Polarization"
   ]
  },
  {
   "cell_type": "code",
   "execution_count": 43,
   "id": "fe9dd9a4-f81e-4d49-b705-8ff5ba3dbff1",
   "metadata": {},
   "outputs": [],
   "source": [
    "TOOLTIPS = [\n",
    "    (\"Polarization\", \"$x\"),\n",
    "    (\"Number of Events\", \"$y\"),\n",
    "]\n",
    "\n",
    "p = figure(width=670, height=400, title=\"Distribution of Polarization Values\", x_axis_label='Polarization (C/m²)', y_axis_label='Number of Events / (0.05 C/m²)', tooltips = TOOLTIPS)\n",
    "\n",
    "bins = np.linspace(0, polarization_x_max, 37)\n",
    "hist1, edges1 = np.histogram(x_pol_filtered, density=False, bins=bins)\n",
    "p.quad(top=hist1, bottom=0, left=edges1[:-1], right=edges1[1:],\n",
    "         fill_color=\"red\", line_color=\"red\", legend_label=\"Polarization in the X-Direction\", line_alpha = 0.20, fill_alpha = 0.15)\n",
    "hist2, edges2 = np.histogram(y_pol_filtered, density=False, bins=bins)\n",
    "p.quad(top=hist2, bottom=0, left=edges2[:-1], right=edges2[1:],\n",
    "         fill_color=\"green\", line_color=\"green\", legend_label=\"Polarization in the Y-Direction\", line_alpha = 0.20, fill_alpha = 0.15)\n",
    "hist3, edges3 = np.histogram(z_pol_filtered, density=False, bins=bins)\n",
    "p.quad(top=hist3, bottom=0, left=edges3[:-1], right=edges3[1:],\n",
    "         fill_color=\"blue\", line_color=\"blue\", legend_label=\"Polarization in the Z-Direction\", line_alpha = 0.20, fill_alpha = 0.15)\n",
    "\n",
    "#p.output_backend = \"svg\"\n",
    "#export_svgs(p, filename=\"flux_histogram.svg\")\n",
    "show(p)"
   ]
  },
  {
   "cell_type": "code",
   "execution_count": 30,
   "id": "bd83b9ce-7035-40a8-b29c-5a5e2d8d15ec",
   "metadata": {},
   "outputs": [],
   "source": [
    "TOOLTIPS = [\n",
    "    (\"Distance\", \"$x\"),\n",
    "    (\"Polarization\", \"$y\"),\n",
    "]\n",
    "\n",
    "p = figure(width=1000, height=500, x_axis_label='Distance from Origin on the Y-Axis (mm)', y_axis_label='Polarization (C/m²)', tooltips = TOOLTIPS)\n",
    "\n",
    "#p.scatter(z_pos_filtered, x_pol_filtered, size=1, legend_label=\"Polarization in the X-Direction\", color=\"red\", alpha=0.5)\n",
    "#p.scatter(z_pos_filtered, y_pol_filtered, size=1, legend_label=\"Polarization in the Y-Direction\", color=\"green\", alpha=0.5)\n",
    "p.scatter(z_pos_filtered, z_pol_filtered, size=1, legend_label=\"Polarization in the Z-Direction\", color=\"blue\", alpha=0.5)\n",
    "#p.scatter(z_pos_filtered, polarization, color=\"orange\", legend_label=\"Total Polarization\")\n",
    "\n",
    "show(p)"
   ]
  },
  {
   "cell_type": "code",
   "execution_count": null,
   "id": "11198a4e-5a11-4c9d-ab29-f82594f08104",
   "metadata": {},
   "outputs": [],
   "source": []
  }
 ],
 "metadata": {
  "kernelspec": {
   "display_name": "Python 3 (ipykernel)",
   "language": "python",
   "name": "python3"
  },
  "language_info": {
   "codemirror_mode": {
    "name": "ipython",
    "version": 3
   },
   "file_extension": ".py",
   "mimetype": "text/x-python",
   "name": "python",
   "nbconvert_exporter": "python",
   "pygments_lexer": "ipython3",
   "version": "3.12.2"
  }
 },
 "nbformat": 4,
 "nbformat_minor": 5
}
